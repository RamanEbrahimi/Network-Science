{
  "nbformat": 4,
  "nbformat_minor": 0,
  "metadata": {
    "colab": {
      "provenance": [],
      "collapsed_sections": [
        "xHdq9gI1Q2n4"
      ]
    },
    "kernelspec": {
      "name": "python3",
      "display_name": "Python 3"
    },
    "language_info": {
      "name": "python"
    }
  },
  "cells": [
    {
      "cell_type": "code",
      "execution_count": 1,
      "metadata": {
        "id": "rFYwoYTy0NWt"
      },
      "outputs": [],
      "source": [
        "import pandas as pd\n",
        "import numpy as np\n",
        "import networkx as nx\n",
        "import matplotlib.pyplot as plt\n",
        "import matplotlib.colors as mcolors"
      ]
    },
    {
      "cell_type": "code",
      "source": [
        "!pip install scipy==1.8.0"
      ],
      "metadata": {
        "colab": {
          "base_uri": "https://localhost:8080/"
        },
        "id": "aQk-Xyv86FwK",
        "outputId": "e6f11f01-671b-4cd6-899c-9f6caac1b480"
      },
      "execution_count": 2,
      "outputs": [
        {
          "output_type": "stream",
          "name": "stdout",
          "text": [
            "Looking in indexes: https://pypi.org/simple, https://us-python.pkg.dev/colab-wheels/public/simple/\n",
            "Collecting scipy==1.8.0\n",
            "  Downloading scipy-1.8.0-cp38-cp38-manylinux_2_17_x86_64.manylinux2014_x86_64.whl (41.6 MB)\n",
            "\u001b[2K     \u001b[90m━━━━━━━━━━━━━━━━━━━━━━━━━━━━━━━━━━━━━━━━\u001b[0m \u001b[32m41.6/41.6 MB\u001b[0m \u001b[31m16.9 MB/s\u001b[0m eta \u001b[36m0:00:00\u001b[0m\n",
            "\u001b[?25hRequirement already satisfied: numpy<1.25.0,>=1.17.3 in /usr/local/lib/python3.8/dist-packages (from scipy==1.8.0) (1.21.6)\n",
            "Installing collected packages: scipy\n",
            "  Attempting uninstall: scipy\n",
            "    Found existing installation: scipy 1.7.3\n",
            "    Uninstalling scipy-1.7.3:\n",
            "      Successfully uninstalled scipy-1.7.3\n",
            "Successfully installed scipy-1.8.0\n"
          ]
        }
      ]
    },
    {
      "cell_type": "code",
      "source": [
        "# GrQc = nx.read_edgelist(\"/content/CA-GrQc.txt\", create_using=nx.Graph())\n",
        "# WikiVote = nx.read_edgelist(\"/content/Wiki-Vote.txt\", create_using=nx.DiGraph())\n",
        "# p2p = nx.read_edgelist(\"/content/p2p-Gnutella08.txt\", create_using=nx.DiGraph())\n",
        "fb = nx.read_edgelist(\"/content/facebook_combined.txt\", create_using=nx.Graph())\n",
        "\n",
        "# pos_GrQc = nx.spring_layout(GrQc, seed=23)\n",
        "# pos_wv = nx.spring_layout(WikiVote, seed=23)\n",
        "# pos_p2p = nx.spring_layout(p2p, seed=23)\n",
        "pos_fb = nx.spring_layout(fb, seed=23)\n",
        "\n",
        "# count the number of nodes\n",
        "# GrQc.number_of_nodes()\n",
        "# WikiVote.number_of_nodes()\n",
        "# p2p.number_of_nodes()\n",
        "fb.number_of_nodes()"
      ],
      "metadata": {
        "colab": {
          "base_uri": "https://localhost:8080/"
        },
        "id": "v12HMQls18vS",
        "outputId": "bc34860d-7981-44b5-d383-197cf8110a85"
      },
      "execution_count": 76,
      "outputs": [
        {
          "output_type": "execute_result",
          "data": {
            "text/plain": [
              "4039"
            ]
          },
          "metadata": {},
          "execution_count": 76
        }
      ]
    },
    {
      "cell_type": "code",
      "source": [
        "from networkx.classes.function import is_directed\n",
        "def centrality_measures(g):\n",
        "    d_cent = nx.degree_centrality(g) # this is normalized by default\n",
        "    c_cent = nx.closeness_centrality(g) # this is normalized by default\n",
        "    b_cent = nx.betweenness_centrality(g)\n",
        "    e_cent = nx.eigenvector_centrality(g)\n",
        "    h_cent = nx.harmonic_centrality(g)\n",
        "    pr = nx.pagerank(g) # alpha is 0.85 by default, we can change it.\n",
        "    clus_coeff = nx.clustering(g)\n",
        "    # these are all dictionaries from nodes to their centrality value (or other variables).\n",
        "    if nx.is_directed(g):\n",
        "      in_cent = nx.in_degree_centrality(g)\n",
        "      out_cent = nx.out_degree_centrality(g)\n",
        "    else:\n",
        "      in_cent = 0\n",
        "      out_cent = 0\n",
        "      \n",
        "    return d_cent, c_cent, b_cent, e_cent, h_cent, pr, clus_coeff, in_cent, out_cent"
      ],
      "metadata": {
        "id": "Ct8bmFO74sQl"
      },
      "execution_count": 77,
      "outputs": []
    },
    {
      "cell_type": "code",
      "source": [
        "def draw(G, pos, measures, measure_name):\n",
        "    \n",
        "    nodes = nx.draw_networkx_nodes(G, pos, node_size=2, cmap=plt.cm.plasma, \n",
        "                                   node_color=list(measures.values()),\n",
        "                                   nodelist=measures.keys())\n",
        "    nodes.set_norm(mcolors.SymLogNorm(linthresh=0.01, linscale=1, base=10))\n",
        "    edges = nx.draw_networkx_edges(G, pos)\n",
        "\n",
        "    plt.title(measure_name)\n",
        "    plt.colorbar(nodes)\n",
        "    plt.axis('off')\n",
        "    plt.savefig(measure_name+'.png', format='png')\n",
        "    plt.show()\n",
        "\n",
        "\n",
        "def plot_hist(measure, measure_name):\n",
        "    plt.hist(list(measure.values()))\n",
        "    plt.title(measure_name)\n",
        "    # plt.axis('off')\n",
        "    plt.savefig(measure_name+'hist.png', format='png')\n",
        "    plt.show()"
      ],
      "metadata": {
        "id": "U0HNA0OLAWM9"
      },
      "execution_count": 78,
      "outputs": []
    },
    {
      "cell_type": "markdown",
      "source": [
        "# Dataset 1: GrQc"
      ],
      "metadata": {
        "id": "xHdq9gI1Q2n4"
      }
    },
    {
      "cell_type": "code",
      "source": [
        "# Computing centralities\n",
        "d_cent, c_cent, b_cent, e_cent, h_cent, pr, clus_coeff, in_cent, out_cent = centrality_measures(GrQc)"
      ],
      "metadata": {
        "id": "76e6e7ZpnbaS"
      },
      "execution_count": null,
      "outputs": []
    },
    {
      "cell_type": "code",
      "source": [
        "# Some other measurements for better understanding\n",
        "\n",
        "num_triangles = nx.triangles(GrQc)\n",
        "number_of_triangles = sum(num_triangles.values()) / 3\n",
        "print('Total number of triangles:' + str(number_of_triangles))\n",
        "\n",
        "if nx.has_bridges(GrQc):\n",
        "  print('\\nGraph has bridges!\\n')\n",
        "  all_bridges = nx.bridges(GrQc)\n",
        "\n",
        "largest_cc = max(nx.connected_components(GrQc), key=len)\n",
        "\n",
        "p = dict(nx.shortest_path_length(GrQc))"
      ],
      "metadata": {
        "colab": {
          "base_uri": "https://localhost:8080/"
        },
        "id": "Non4LhaVbvMf",
        "outputId": "cf48cdb6-f80a-40e1-ba41-fb8c080624be"
      },
      "execution_count": null,
      "outputs": [
        {
          "output_type": "stream",
          "name": "stdout",
          "text": [
            "48260.0\n"
          ]
        }
      ]
    },
    {
      "cell_type": "code",
      "source": [
        "# Largest strongly connected component\n",
        "GrQc0 = GrQc.subgraph(largest_cc)\n",
        "pos_lcc = nx.spring_layout(GrQc0, seed=23)"
      ],
      "metadata": {
        "id": "SbIttcCC-cXb"
      },
      "execution_count": null,
      "outputs": []
    },
    {
      "cell_type": "code",
      "source": [
        "# Some insights on largest connected component\n",
        "radius = nx.radius(GrQc0)\n",
        "center = nx.center(GrQc0)\n",
        "diameter = nx.diameter(GrQc0)\n",
        "eccentricity = nx.eccentricity(GrQc0)"
      ],
      "metadata": {
        "id": "Y5Oq8weeWFj4"
      },
      "execution_count": null,
      "outputs": []
    },
    {
      "cell_type": "code",
      "source": [
        "print(GrQc0.number_of_nodes())\n",
        "print(GrQc0.number_of_edges())"
      ],
      "metadata": {
        "colab": {
          "base_uri": "https://localhost:8080/"
        },
        "id": "VFCC5u3rL315",
        "outputId": "fc68fc2d-2a55-4495-bd59-e7f761132b78"
      },
      "execution_count": null,
      "outputs": [
        {
          "output_type": "execute_result",
          "data": {
            "text/plain": [
              "4158"
            ]
          },
          "metadata": {},
          "execution_count": 34
        }
      ]
    },
    {
      "cell_type": "code",
      "source": [
        "# Visualization\n",
        "draw(GrQc, pos_GrQc, d_cent, 'Degree Centrality for GrQc')\n",
        "draw(GrQc, pos_GrQc, c_cent, 'Closeness Centrality for GrQc')\n",
        "draw(GrQc, pos_GrQc, b_cent, 'Betweenness Centrality for GrQc')\n",
        "draw(GrQc, pos_GrQc, e_cent, 'Eigenvector Centrality for GrQc')\n",
        "draw(GrQc, pos_GrQc, pr, 'PageRank for GrQc')\n",
        "draw(GrQc, pos_GrQc, clus_coeff, 'Clustering Coefficient for GrQc')\n",
        "\n",
        "plot_hist(d_cent, 'Degree Centrality for GrQc')\n",
        "plot_hist(c_cent, 'Closeness Centrality for GrQc')\n",
        "plot_hist(b_cent, 'Betweenness Centrality for GrQc')\n",
        "plot_hist(e_cent, 'Eigenvector Centrality for GrQc')\n",
        "plot_hist(pr, 'PageRank for GrQc')\n",
        "plot_hist(clus_coeff, 'Clustering Coefficient for GrQc')"
      ],
      "metadata": {
        "id": "F7MC4p5YZNQ6"
      },
      "execution_count": null,
      "outputs": []
    },
    {
      "cell_type": "markdown",
      "source": [
        "# Dataset 2: Wiki vote"
      ],
      "metadata": {
        "id": "RvOB69glQ7SI"
      }
    },
    {
      "cell_type": "code",
      "source": [
        "# Computing centralities\n",
        "d_cent, c_cent, b_cent, e_cent, h_cent, pr, clus_coeff, in_cent, out_cent = centrality_measures(WikiVote)"
      ],
      "metadata": {
        "id": "Fag8SO-YoUhM"
      },
      "execution_count": 22,
      "outputs": []
    },
    {
      "cell_type": "code",
      "source": [
        "# Some other measurements for better understanding\n",
        "\n",
        "largest_wcc = max(nx.weakly_connected_components(WikiVote), key=len)\n",
        "largest_scc = max(nx.strongly_connected_components(WikiVote), key=len)"
      ],
      "metadata": {
        "id": "bvM2lI9jol69"
      },
      "execution_count": 40,
      "outputs": []
    },
    {
      "cell_type": "code",
      "source": [
        "# Largest weakly/strongly connected component\n",
        "WikiVote0 = WikiVote.subgraph(largest_wcc)\n",
        "WikiVote1 = WikiVote.subgraph(largest_scc)"
      ],
      "metadata": {
        "id": "pdLXRlNJoqm9"
      },
      "execution_count": 47,
      "outputs": []
    },
    {
      "cell_type": "code",
      "source": [
        "# Some insights on largest connected component\n",
        "radius = nx.radius(WikiVote0)\n",
        "center = nx.center(WikiVote0)\n",
        "diameter = nx.diameter(WikiVote0)\n",
        "eccentricity = nx.eccentricity(WikiVote0)"
      ],
      "metadata": {
        "id": "JLrX91xV2LqL"
      },
      "execution_count": null,
      "outputs": []
    },
    {
      "cell_type": "code",
      "source": [
        "# Finding number of triangles in the directed graph\n",
        "# cycls_3 = [c for c in nx.simple_cycles(WikiVote) if len(c)==3]\n",
        "# Very inefficient, couldn't finish!!!"
      ],
      "metadata": {
        "id": "6Yej1y0aypCq"
      },
      "execution_count": 45,
      "outputs": []
    },
    {
      "cell_type": "code",
      "source": [
        "# print(len(cycls_3))"
      ],
      "metadata": {
        "id": "UiTptEWezd_s"
      },
      "execution_count": 46,
      "outputs": []
    },
    {
      "cell_type": "code",
      "source": [
        "print('Fraction of nodes in the largest weakly connected component: ' + str(WikiVote0.number_of_nodes() / WikiVote.number_of_nodes()))\n",
        "print('Fraction of edges in the largest weakly connected component: ' + str(WikiVote0.number_of_edges() / WikiVote.number_of_edges()))\n",
        "print('Fraction of nodes in the largest strongly connected component: ' + str(WikiVote1.number_of_nodes() / WikiVote.number_of_nodes()))\n",
        "print('Fraction of edges in the largest strongly connected component: ' + str(WikiVote1.number_of_edges() / WikiVote.number_of_edges()))"
      ],
      "metadata": {
        "colab": {
          "base_uri": "https://localhost:8080/"
        },
        "id": "7fuOzfJcorM_",
        "outputId": "d3f58c79-d835-42ee-f656-411929a6c98c"
      },
      "execution_count": 48,
      "outputs": [
        {
          "output_type": "stream",
          "name": "stdout",
          "text": [
            "Fraction of nodes in the largest weakly connected component: 0.9931131412508785\n",
            "Fraction of edges in the largest weakly connected component: 0.9997492501615408\n",
            "Fraction of nodes in the largest strongly connected component: 0.18271257905832747\n",
            "Fraction of edges in the largest strongly connected component: 0.3805225240864508\n"
          ]
        }
      ]
    },
    {
      "cell_type": "code",
      "source": [
        "# Visualization\n",
        "\n",
        "plot_hist(d_cent, 'Degree Centrality for WikiVote')\n",
        "plot_hist(c_cent, 'Closeness Centrality for WikiVote')\n",
        "plot_hist(b_cent, 'Betweenness Centrality for WikiVote')\n",
        "plot_hist(e_cent, 'Eigenvector Centrality for WikiVote')\n",
        "plot_hist(h_cent, 'Harmonic Centrality for WikiVote')\n",
        "plot_hist(pr, 'PageRank for WikiVote')\n",
        "plot_hist(clus_coeff, 'Clustering Coefficient for WikiVote')\n",
        "plot_hist(in_cent, 'In-Degree Centrality for WikiVote')\n",
        "plot_hist(out_cent, 'Out-Degree Centrality for WikiVote')"
      ],
      "metadata": {
        "id": "iG2qFGf9Q-Mk"
      },
      "execution_count": null,
      "outputs": []
    },
    {
      "cell_type": "markdown",
      "source": [
        "# Dataset 3: p2p-Gnutella08\n"
      ],
      "metadata": {
        "id": "afVS_IRGFT2-"
      }
    },
    {
      "cell_type": "code",
      "source": [
        "# Computing centralities\n",
        "d_cent, c_cent, b_cent, e_cent, h_cent, pr, clus_coeff, in_cent, out_cent = centrality_measures(p2p)"
      ],
      "metadata": {
        "id": "JxuIrYcEFYa_"
      },
      "execution_count": 61,
      "outputs": []
    },
    {
      "cell_type": "code",
      "source": [
        "# Largest weakly/strongly connected component\n",
        "largest_wcc = max(nx.weakly_connected_components(p2p), key=len)\n",
        "largest_scc = max(nx.strongly_connected_components(p2p), key=len)\n",
        "\n",
        "p2p0 = p2p.subgraph(largest_wcc)\n",
        "p2p1 = p2p.subgraph(largest_scc)"
      ],
      "metadata": {
        "id": "PiWjJj9DPGlD"
      },
      "execution_count": 68,
      "outputs": []
    },
    {
      "cell_type": "code",
      "source": [
        "print('Fraction of nodes in the largest weakly connected component: ' + str(p2p0.number_of_nodes() / p2p.number_of_nodes()))\n",
        "print('Fraction of edges in the largest weakly connected component: ' + str(p2p0.number_of_edges() / p2p.number_of_edges()))\n",
        "print('Fraction of nodes in the largest strongly connected component: ' + str(p2p1.number_of_nodes() / p2p.number_of_nodes()))\n",
        "print('Fraction of edges in the largest strongly connected component: ' + str(p2p1.number_of_edges() / p2p.number_of_edges()))"
      ],
      "metadata": {
        "colab": {
          "base_uri": "https://localhost:8080/"
        },
        "id": "eXRNIatwPUVx",
        "outputId": "68b73827-42f2-43a8-f141-a1c789d2411a"
      },
      "execution_count": 69,
      "outputs": [
        {
          "output_type": "stream",
          "name": "stdout",
          "text": [
            "Fraction of nodes in the largest weakly connected component: 0.999682590065069\n",
            "Fraction of edges in the largest weakly connected component: 0.9999518698560909\n",
            "Fraction of nodes in the largest strongly connected component: 0.3282018727186161\n",
            "Fraction of edges in the largest strongly connected component: 0.4482360302257304\n"
          ]
        }
      ]
    },
    {
      "cell_type": "code",
      "source": [
        "# Some insights on the largest strongly connected component\n",
        "radius = nx.radius(p2p1) \n",
        "center = nx.center(p2p1)\n",
        "diameter = nx.diameter(p2p1)\n",
        "eccentricity = nx.eccentricity(p2p1)"
      ],
      "metadata": {
        "id": "6agT1qg0VhOX"
      },
      "execution_count": 71,
      "outputs": []
    },
    {
      "cell_type": "code",
      "source": [
        "print('radius of largest strongly connected component is: ' + str(radius))\n",
        "print('diameter of largest strongly connected component is: ' + str(diameter))\n",
        "print('center of largest strongly connected component are: ' + str(center))"
      ],
      "metadata": {
        "colab": {
          "base_uri": "https://localhost:8080/"
        },
        "id": "pJjE1WMgWyoE",
        "outputId": "4ba0c0ce-d30c-4ab2-ac0e-b3ea035fbf4a"
      },
      "execution_count": 74,
      "outputs": [
        {
          "output_type": "stream",
          "name": "stdout",
          "text": [
            "radius of largest strongly connected component is: 12\n",
            "diameter of largest strongly connected component is: 19\n",
            "center of largest strongly connected component are: ['4137', '112', '5680', '5078', '5727', '4639', '5168', '703', '3558', '4805', '6258', '2293', '3247', '1377', '4140', '1534']\n"
          ]
        }
      ]
    },
    {
      "cell_type": "code",
      "source": [
        "# Visualization\n",
        "draw(p2p, pos_p2p, d_cent, 'Degree Centrality for p2p')\n",
        "draw(p2p, pos_p2p, c_cent, 'Closeness Centrality for p2p')\n",
        "draw(p2p, pos_p2p, b_cent, 'Betweenness Centrality for p2p')\n",
        "draw(p2p, pos_p2p, e_cent, 'Eigenvector Centrality for p2p')\n",
        "draw(p2p, pos_p2p, h_cent, 'Eigenvector Centrality for p2p')\n",
        "draw(p2p, pos_p2p, pr, 'PageRank for p2p')\n",
        "draw(p2p, pos_p2p, clus_coeff, 'Clustering Coefficient for p2p')\n",
        "draw(p2p, pos_p2p, in_cent, 'In-Degree Centrality for p2p')\n",
        "draw(p2p, pos_p2p, out_cent, 'Out-Degree Centrality for p2p')\n",
        "\n",
        "plot_hist(d_cent, 'Degree Centrality for p2p')\n",
        "plot_hist(c_cent, 'Closeness Centrality for p2p')\n",
        "plot_hist(b_cent, 'Betweenness Centrality for p2p')\n",
        "plot_hist(e_cent, 'Eigenvector Centrality for p2p')\n",
        "plot_hist(h_cent, 'Harmonic Centrality for p2p')\n",
        "plot_hist(pr, 'PageRank for p2p')\n",
        "plot_hist(clus_coeff, 'Clustering Coefficient for p2p')\n",
        "plot_hist(in_cent, 'In-Degree Centrality for p2p')\n",
        "plot_hist(out_cent, 'Out-Degree Centrality for p2p')"
      ],
      "metadata": {
        "id": "orzB89PUPuwH"
      },
      "execution_count": null,
      "outputs": []
    },
    {
      "cell_type": "markdown",
      "source": [
        "# Dataset 4: Social circles, Facebook"
      ],
      "metadata": {
        "id": "mSBJhr05epU2"
      }
    },
    {
      "cell_type": "code",
      "source": [
        "# Computing centralities\n",
        "d_cent, c_cent, b_cent, e_cent, h_cent, pr, clus_coeff, in_cent, out_cent = centrality_measures(fb)"
      ],
      "metadata": {
        "id": "ZBnaS7diemdx"
      },
      "execution_count": null,
      "outputs": []
    },
    {
      "cell_type": "code",
      "source": [
        "# Some other measurements for better understanding\n",
        "\n",
        "num_triangles = nx.triangles(fb)\n",
        "number_of_triangles = sum(num_triangles.values()) / 3\n",
        "print('Total number of triangles:' + str(number_of_triangles))\n",
        "\n",
        "if nx.has_bridges(fb):\n",
        "  print('\\nGraph has bridges!\\n')\n",
        "  all_bridges = nx.bridges(fb)\n",
        "\n",
        "largest_cc = max(nx.connected_components(fb), key=len)\n",
        "\n",
        "p = dict(nx.shortest_path_length(fb))"
      ],
      "metadata": {
        "id": "KIpJ2HNikbtW"
      },
      "execution_count": null,
      "outputs": []
    },
    {
      "cell_type": "code",
      "source": [
        "# Largest strongly connected component\n",
        "fb0 = fb.subgraph(largest_cc)\n",
        "pos_lcc = nx.spring_layout(fb0, seed=23)"
      ],
      "metadata": {
        "id": "XYuXpdhgklDh"
      },
      "execution_count": null,
      "outputs": []
    },
    {
      "cell_type": "code",
      "source": [
        "# Some insights on graph\n",
        "radius = nx.radius(fb)\n",
        "center = nx.center(fb)\n",
        "diameter = nx.diameter(fb)\n",
        "eccentricity = nx.eccentricity(fb)\n",
        "print('radius of largest strongly connected component is: ' + str(radius))\n",
        "print('diameter of largest strongly connected component is: ' + str(diameter))"
      ],
      "metadata": {
        "id": "dE4mPswakrTz"
      },
      "execution_count": null,
      "outputs": []
    },
    {
      "cell_type": "code",
      "source": [
        "# Visualization\n",
        "draw(fb, pos_fb, d_cent, 'Degree Centrality for p2p')\n",
        "draw(fb, pos_fb, c_cent, 'Closeness Centrality for p2p')\n",
        "draw(fb, pos_fb, b_cent, 'Betweenness Centrality for p2p')\n",
        "draw(fb, pos_fb, e_cent, 'Eigenvector Centrality for p2p')\n",
        "draw(fb, pos_fb, pr, 'PageRank for p2p')\n",
        "draw(fb, pos_fb, clus_coeff, 'Clustering Coefficient for p2p')\n",
        "\n",
        "plot_hist(d_cent, 'Degree Centrality for p2p')\n",
        "plot_hist(c_cent, 'Closeness Centrality for p2p')\n",
        "plot_hist(b_cent, 'Betweenness Centrality for p2p')\n",
        "plot_hist(e_cent, 'Eigenvector Centrality for p2p')\n",
        "plot_hist(pr, 'PageRank for p2p')\n",
        "plot_hist(clus_coeff, 'Clustering Coefficient for p2p')"
      ],
      "metadata": {
        "id": "_mGUJpkMlD5g"
      },
      "execution_count": null,
      "outputs": []
    }
  ]
}