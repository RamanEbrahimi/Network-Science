{
  "nbformat": 4,
  "nbformat_minor": 0,
  "metadata": {
    "colab": {
      "provenance": [],
      "collapsed_sections": [
        "xHdq9gI1Q2n4"
      ]
    },
    "kernelspec": {
      "name": "python3",
      "display_name": "Python 3"
    },
    "language_info": {
      "name": "python"
    }
  },
  "cells": [
    {
      "cell_type": "code",
      "execution_count": null,
      "metadata": {
        "id": "rFYwoYTy0NWt"
      },
      "outputs": [],
      "source": [
        "import pandas as pd\n",
        "import numpy as np\n",
        "import networkx as nx\n",
        "import matplotlib.pyplot as plt\n",
        "import matplotlib.colors as mcolors"
      ]
    },
    {
      "cell_type": "code",
      "source": [
        "!pip install scipy==1.8.0"
      ],
      "metadata": {
        "colab": {
          "base_uri": "https://localhost:8080/"
        },
        "id": "aQk-Xyv86FwK",
        "outputId": "22d612fc-0e78-46ad-b6fc-557d2abdc143"
      },
      "execution_count": null,
      "outputs": [
        {
          "output_type": "stream",
          "name": "stdout",
          "text": [
            "Looking in indexes: https://pypi.org/simple, https://us-python.pkg.dev/colab-wheels/public/simple/\n",
            "Requirement already satisfied: scipy==1.8.0 in /usr/local/lib/python3.8/dist-packages (1.8.0)\n",
            "Requirement already satisfied: numpy<1.25.0,>=1.17.3 in /usr/local/lib/python3.8/dist-packages (from scipy==1.8.0) (1.21.6)\n"
          ]
        }
      ]
    },
    {
      "cell_type": "code",
      "source": [
        "# GrQc = nx.read_edgelist(\"/content/CA-GrQc.txt\", create_using=nx.Graph())\n",
        "WikiVote = nx.read_edgelist(\"/content/Wiki-Vote.txt\", create_using=nx.DiGraph())\n",
        "# pos = nx.spring_layout(GrQc, seed=23)\n",
        "pos = nx.spring_layout(WikiVote, seed=23)\n",
        "# check if the data has been read properly or not.\n",
        "\n",
        "# count the number of nodes\n",
        "# GrQc.number_of_nodes()\n",
        "WikiVote.number_of_nodes()"
      ],
      "metadata": {
        "colab": {
          "base_uri": "https://localhost:8080/"
        },
        "id": "v12HMQls18vS",
        "outputId": "11569f8b-e4a1-46cd-da93-df56ed85259c"
      },
      "execution_count": null,
      "outputs": [
        {
          "output_type": "execute_result",
          "data": {
            "text/plain": [
              "7115"
            ]
          },
          "metadata": {},
          "execution_count": 4
        }
      ]
    },
    {
      "cell_type": "code",
      "source": [
        "def centrality_measures(g):\n",
        "    d_cent = nx.degree_centrality(g) # this is normalized by default\n",
        "    c_cent = nx.closeness_centrality(g) # this is normalized by default\n",
        "    b_cent = nx.betweenness_centrality(g)\n",
        "    e_cent = nx.eigenvector_centrality(g)\n",
        "    pr = nx.pagerank(g) # alpha is 0.85 by default, we can change it.\n",
        "    clus_coeff = nx.clustering(g)\n",
        "    # these are all dictionaries from nodes to their centrality value (or other variables).\n",
        "    return d_cent, c_cent, b_cent, e_cent, pr, clus_coeff"
      ],
      "metadata": {
        "id": "Ct8bmFO74sQl"
      },
      "execution_count": null,
      "outputs": []
    },
    {
      "cell_type": "code",
      "source": [
        "def draw(G, pos, measures, measure_name):\n",
        "    \n",
        "    nodes = nx.draw_networkx_nodes(G, pos, node_size=2, cmap=plt.cm.plasma, \n",
        "                                   node_color=list(measures.values()),\n",
        "                                   nodelist=measures.keys())\n",
        "    nodes.set_norm(mcolors.SymLogNorm(linthresh=0.01, linscale=1, base=10))\n",
        "    edges = nx.draw_networkx_edges(G, pos)\n",
        "\n",
        "    plt.title(measure_name)\n",
        "    plt.colorbar(nodes)\n",
        "    plt.axis('off')\n",
        "    plt.show()\n",
        "\n",
        "\n",
        "def plot_hist(measure, measure_name):\n",
        "    plt.hist(list(measure.values()))\n",
        "    plt.title(measure_name)\n",
        "    # plt.axis('off')\n",
        "    plt.show()"
      ],
      "metadata": {
        "id": "U0HNA0OLAWM9"
      },
      "execution_count": null,
      "outputs": []
    },
    {
      "cell_type": "markdown",
      "source": [
        "# Dataset 1: GrQc"
      ],
      "metadata": {
        "id": "xHdq9gI1Q2n4"
      }
    },
    {
      "cell_type": "code",
      "source": [
        "d_cent, c_cent, b_cent, e_cent, pr, clus_coeff = centrality_measures(GrQc)\n",
        "draw(GrQc, pos, d_cent, 'Degree Centrality for GrQc')\n",
        "draw(GrQc, pos, c_cent, 'Closeness Centrality for GrQc')\n",
        "draw(GrQc, pos, b_cent, 'Betweenness Centrality for GrQc')\n",
        "draw(GrQc, pos, e_cent, 'Eigenvector Centrality for GrQc')\n",
        "draw(GrQc, pos, pr, 'PageRank for GrQc')\n",
        "draw(GrQc, pos, clus_coeff, 'Clustering Coefficient for GrQc')\n",
        "\n",
        "plot_hist(d_cent, 'Degree Centrality for GrQc')\n",
        "plot_hist(c_cent, 'Closeness Centrality for GrQc')\n",
        "plot_hist(b_cent, 'Betweenness Centrality for GrQc')\n",
        "plot_hist(e_cent, 'Eigenvector Centrality for GrQc')\n",
        "plot_hist(pr, 'PageRank for GrQc')\n",
        "plot_hist(clus_coeff, 'Clustering Coefficient for GrQc')"
      ],
      "metadata": {
        "id": "F7MC4p5YZNQ6"
      },
      "execution_count": null,
      "outputs": []
    },
    {
      "cell_type": "code",
      "source": [
        "# radius = nx.radius(GrQc) --> infty\n",
        "# center = nx.center(GrQc) --> infty\n",
        "# diameter = nx.diameter(GrQc) --> infty\n",
        "# eccentricity = nx.eccentricity(GrQc) --> infty\n",
        "num_triangles = nx.triangles(GrQc)\n",
        "number_of_triangles = sum(num_triangles.values()) / 3\n",
        "print(number_of_triangles)"
      ],
      "metadata": {
        "colab": {
          "base_uri": "https://localhost:8080/"
        },
        "id": "Non4LhaVbvMf",
        "outputId": "cf48cdb6-f80a-40e1-ba41-fb8c080624be"
      },
      "execution_count": null,
      "outputs": [
        {
          "output_type": "stream",
          "name": "stdout",
          "text": [
            "48260.0\n"
          ]
        }
      ]
    },
    {
      "cell_type": "code",
      "source": [
        "if nx.has_bridges(GrQc):\n",
        "  all_bridges = nx.bridges(GrQc)\n",
        "\n",
        "largest_cc = max(nx.connected_components(GrQc), key=len)\n",
        "\n",
        "p = dict(nx.shortest_path_length(GrQc))"
      ],
      "metadata": {
        "id": "3Uas9CXvJTmb"
      },
      "execution_count": null,
      "outputs": []
    },
    {
      "cell_type": "code",
      "source": [
        "GrQc0 = GrQc.subgraph(largest_cc)\n",
        "pos_lcc = nx.spring_layout(GrQc0, seed=23)"
      ],
      "metadata": {
        "id": "SbIttcCC-cXb"
      },
      "execution_count": null,
      "outputs": []
    },
    {
      "cell_type": "code",
      "source": [
        "GrQc0.number_of_nodes()"
      ],
      "metadata": {
        "colab": {
          "base_uri": "https://localhost:8080/"
        },
        "id": "VFCC5u3rL315",
        "outputId": "fc68fc2d-2a55-4495-bd59-e7f761132b78"
      },
      "execution_count": null,
      "outputs": [
        {
          "output_type": "execute_result",
          "data": {
            "text/plain": [
              "4158"
            ]
          },
          "metadata": {},
          "execution_count": 34
        }
      ]
    },
    {
      "cell_type": "code",
      "source": [
        "GrQc0.number_of_edges()"
      ],
      "metadata": {
        "colab": {
          "base_uri": "https://localhost:8080/"
        },
        "id": "gl_iYDFBMUmd",
        "outputId": "56d7d74f-8e6f-4d96-96c9-11d05844947c"
      },
      "execution_count": null,
      "outputs": [
        {
          "output_type": "execute_result",
          "data": {
            "text/plain": [
              "13428"
            ]
          },
          "metadata": {},
          "execution_count": 35
        }
      ]
    },
    {
      "cell_type": "markdown",
      "source": [
        "# Dataset 2: Wiki vote"
      ],
      "metadata": {
        "id": "RvOB69glQ7SI"
      }
    },
    {
      "cell_type": "code",
      "source": [
        "d_cent, c_cent, b_cent, e_cent, pr, clus_coeff = centrality_measures(WikiVote)\n",
        "draw(WikiVote, pos, d_cent, 'Degree Centrality for WikiVote')\n",
        "draw(WikiVote, pos, c_cent, 'Closeness Centrality for WikiVote')\n",
        "draw(WikiVote, pos, b_cent, 'Betweenness Centrality for WikiVote')\n",
        "draw(WikiVote, pos, e_cent, 'Eigenvector Centrality for WikiVote')\n",
        "draw(WikiVote, pos, pr, 'PageRank for WikiVote')\n",
        "draw(WikiVote, pos, clus_coeff, 'Clustering Coefficient for WikiVote')\n",
        "\n",
        "plot_hist(d_cent, 'Degree Centrality for WikiVote')\n",
        "plot_hist(c_cent, 'Closeness Centrality for WikiVote')\n",
        "plot_hist(b_cent, 'Betweenness Centrality for WikiVote')\n",
        "plot_hist(e_cent, 'Eigenvector Centrality for WikiVote')\n",
        "plot_hist(pr, 'PageRank for WikiVote')\n",
        "plot_hist(clus_coeff, 'Clustering Coefficient for WikiVote')"
      ],
      "metadata": {
        "id": "iG2qFGf9Q-Mk"
      },
      "execution_count": null,
      "outputs": []
    },
    {
      "cell_type": "code",
      "source": [],
      "metadata": {
        "id": "SeFJ5rZ1STdD"
      },
      "execution_count": null,
      "outputs": []
    }
  ]
}