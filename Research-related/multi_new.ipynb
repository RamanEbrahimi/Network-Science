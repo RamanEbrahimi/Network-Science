{
 "cells": [
  {
   "cell_type": "code",
   "execution_count": 1,
   "metadata": {},
   "outputs": [],
   "source": [
    "# create adjacency matrix of a weighted directed graph\n",
    "import numpy as np\n",
    "import pandas as pd\n",
    "import networkx as nx\n",
    "import matplotlib.pyplot as plt\n",
    "%matplotlib inline"
   ]
  },
  {
   "cell_type": "code",
   "execution_count": 47,
   "metadata": {},
   "outputs": [],
   "source": [
    "# define a function to create random adjacency matrix of a weighted directed graph with n nodes and weights between -10 and 10 with weights less than a threshold set to 0 and diagonal elements zero\n",
    "def create_adj_matrix(n, threshold):\n",
    "    # create a random adjacency matrix\n",
    "    adj_matrix = np.random.rand(n, n) * 20 - 10\n",
    "    # set the diagonal elements to zero\n",
    "    np.fill_diagonal(adj_matrix, 0)\n",
    "    # set the weights less than threshold to zero\n",
    "    adj_matrix[abs(adj_matrix) < threshold] = 0\n",
    "    # return the adjacency matrix\n",
    "    return adj_matrix\n",
    "\n",
    "\n",
    "#  define a function to plot the graph\n",
    "def plot_graph(adj_matrix):\n",
    "    G = nx.from_numpy_matrix(adj_matrix)\n",
    "    elarge = [(u, v) for (u, v, d) in G.edges(data=True) if d[\"weight\"] > 0]\n",
    "    esmall = [(u, v) for (u, v, d) in G.edges(data=True) if d[\"weight\"] <= 0]\n",
    "    # positions for all nodes - seed for reproducibility\n",
    "    pos = nx.spring_layout(G, seed=7)\n",
    "    # nodes\n",
    "    nx.draw_networkx_nodes(G, pos, node_size=1)\n",
    "    # edges\n",
    "    nx.draw_networkx_edges(G, pos, edgelist=elarge, edge_color=\"b\", width=0.1)\n",
    "    nx.draw_networkx_edges(G, pos, edgelist=esmall, width=0.1, alpha=0.5, edge_color=\"r\", style=\"dashed\")\n",
    "    # node labels\n",
    "    nx.draw_networkx_labels(G, pos, font_size=1, font_family=\"sans-serif\")\n",
    "    ax = plt.gca()\n",
    "    ax.margins(0.08)\n",
    "    plt.axis(\"off\")\n",
    "    plt.tight_layout()\n",
    "    plt.title('For '+str(G))\n",
    "    plt.show()\n",
    "\n",
    "\n",
    "# define a function to compute the maximum and minimum eigenvalues of the adjacency matrix\n",
    "def compute_eigenvalues(adj_matrix):\n",
    "    # compute the maximum eigenvalue of the adjacency matrix\n",
    "    max_eig = np.max(np.linalg.eigvals(adj_matrix))\n",
    "    # compute the minimum eigenvalue of the adjacency matrix\n",
    "    min_eig = np.min(np.linalg.eigvals(adj_matrix))\n",
    "    # return the maximum and minimum eigenvalues\n",
    "    return max_eig, min_eig"
   ]
  },
  {
   "attachments": {},
   "cell_type": "markdown",
   "metadata": {},
   "source": [
    "# Numerical experiments for 2-layered multiplex networks"
   ]
  },
  {
   "cell_type": "code",
   "execution_count": null,
   "metadata": {},
   "outputs": [],
   "source": [
    "# creating adjacency matrix for each layer (2 layers) with 50 nodes and 0.2 probability of zero elements for the first one and 0.5 for the second one\n",
    "adj_matrix1 = create_adj_matrix(50, 0.2)\n",
    "adj_matrix2 = create_adj_matrix(50, 0.5)\n",
    "\n",
    "# plot the first layer\n",
    "plot_graph(adj_matrix1)\n",
    "# plot the second layer\n",
    "plot_graph(adj_matrix2)\n",
    "\n",
    "# creating interlayer relations betweek layers, this would be identity matrix since we want to connect each node in the first layer to each node in the second layer\n",
    "interlayer_relations = np.identity(50)\n",
    "\n",
    "# creating the adjacency matrix of the whole graph\n",
    "adj_matrix = np.block([[adj_matrix1, interlayer_relations], [interlayer_relations, adj_matrix2]])\n",
    "\n",
    "# plot inter`layer relations\n",
    "plot_graph(interlayer_relations)"
   ]
  },
  {
   "cell_type": "code",
   "execution_count": 51,
   "metadata": {},
   "outputs": [
    {
     "name": "stderr",
     "output_type": "stream",
     "text": [
      "/Users/macbook/opt/anaconda3/lib/python3.9/site-packages/matplotlib/cbook/__init__.py:1298: ComplexWarning: Casting complex values to real discards the imaginary part\n",
      "  return np.asarray(x, float)\n"
     ]
    },
    {
     "data": {
      "image/png": "[encoded data removed]",
      "text/plain": [
       "<Figure size 640x480 with 1 Axes>"
      ]
     },
     "metadata": {},
     "output_type": "display_data"
    }
   ],
   "source": [
    "# compute the maximum and minimum eigenvalues of each layer and the whole graph\n",
    "list_A = []\n",
    "list_A11 = []\n",
    "list_A22 = []\n",
    "list_A33 = []\n",
    "comb = []\n",
    "diff1 = []\n",
    "diff2 = []\n",
    "\n",
    "for i in range(100):\n",
    "    # generating 100 multiplex networks with 50 nodes in each layer and 0.2 probability of zero elements for the first one and 0.5 for the second one\n",
    "    adj_matrix1 = create_adj_matrix(50, 0.2)\n",
    "    adj_matrix2 = create_adj_matrix(50, 0.5)\n",
    "    # creating interlayer relations betweek layers, this would be identity matrix since we want to connect each node in the first layer to each node in the second layer\n"
   ]
  }
 ],
 "metadata": {
  "kernelspec": {
   "display_name": "base",
   "language": "python",
   "name": "python3"
  },
  "language_info": {
   "codemirror_mode": {
    "name": "ipython",
    "version": 3
   },
   "file_extension": ".py",
   "mimetype": "text/x-python",
   "name": "python",
   "nbconvert_exporter": "python",
   "pygments_lexer": "ipython3",
   "version": "3.9.13"
  },
  "orig_nbformat": 4,
  "vscode": {
   "interpreter": {
    "hash": "88de8a03d390c9821a705f8812eeaeda47efe29e530260f109fd5a47346b85c0"
   }
  }
 },
 "nbformat": 4,
 "nbformat_minor": 2
}
