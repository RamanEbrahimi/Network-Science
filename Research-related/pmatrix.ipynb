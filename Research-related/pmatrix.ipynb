{
 "cells": [
  {
   "cell_type": "code",
   "execution_count": 3,
   "metadata": {},
   "outputs": [],
   "source": [
    "# create adjacency matrix of a weighted directed graph\n",
    "import numpy as np\n",
    "import pandas as pd\n",
    "import networkx as nx\n",
    "import matplotlib.pyplot as plt\n",
    "%matplotlib inline"
   ]
  },
  {
   "cell_type": "code",
   "execution_count": 7,
   "metadata": {},
   "outputs": [],
   "source": [
    "# define a function to create random adjacency matrix of a weighted directed graph with n nodes and weights between -10 and 10 with weights less than a threshold set to 0 and diagonal elements zero\n",
    "def create_adj_matrix(n, threshold):\n",
    "    # create a random adjacency matrix\n",
    "    adj_matrix = np.random.rand(n, n) * 20 - 10\n",
    "    # set the diagonal elements to zero\n",
    "    np.fill_diagonal(adj_matrix, 0)\n",
    "    # set the weights less than threshold to zero\n",
    "    adj_matrix[abs(adj_matrix) < threshold] = 0\n",
    "    # return the adjacency matrix\n",
    "    return adj_matrix\n",
    "\n",
    "# THIS FUNCTION IS TAKING LONG TIME TO RUN --> NEED TO OPTIMIZE\n",
    "# # define a function that generates a matrix with positive principal minors\n",
    "# def generate_p_matrix(n, threshold):\n",
    "#     # x is I+G where G is a random adjacency matrix\n",
    "#     x = np.identity(n) + create_adj_matrix(n, threshold)\n",
    "#     # check if the matrix satisfies 2I+G+G' condition\n",
    "#     while np.any(np.linalg.eigvals(x + x.T) <= 0):\n",
    "#         x = np.identity(n) + create_adj_matrix(n, threshold)\n",
    "#     # if 2I+G+G' is PD, the I+G is p-matrix. So, return I+G.\n",
    "#     return x\n",
    "\n",
    "\n",
    "#  define a function to plot the graph\n",
    "def plot_graph(adj_matrix):\n",
    "    G = nx.from_numpy_matrix(adj_matrix)\n",
    "    elarge = [(u, v) for (u, v, d) in G.edges(data=True) if d[\"weight\"] > 0]\n",
    "    esmall = [(u, v) for (u, v, d) in G.edges(data=True) if d[\"weight\"] <= 0]\n",
    "    # positions for all nodes - seed for reproducibility\n",
    "    pos = nx.spring_layout(G, seed=7)\n",
    "    # nodes\n",
    "    nx.draw_networkx_nodes(G, pos, node_size=1)\n",
    "    # edges\n",
    "    nx.draw_networkx_edges(G, pos, edgelist=elarge, edge_color=\"b\", width=0.1)\n",
    "    nx.draw_networkx_edges(G, pos, edgelist=esmall, width=0.1, alpha=0.5, edge_color=\"r\", style=\"dashed\")\n",
    "    # node labels\n",
    "    nx.draw_networkx_labels(G, pos, font_size=1, font_family=\"sans-serif\")\n",
    "    ax = plt.gca()\n",
    "    ax.margins(0.08)\n",
    "    plt.axis(\"off\")\n",
    "    plt.tight_layout()\n",
    "    plt.title('For '+str(G))\n",
    "    plt.show()\n",
    "\n",
    "\n",
    "# define a function to compute the maximum and minimum eigenvalues of the adjacency matrix\n",
    "def compute_eigenvalues(adj_matrix):\n",
    "    # compute the maximum eigenvalue of the adjacency matrix\n",
    "    max_eig = np.max(np.linalg.eigvals(adj_matrix))\n",
    "    # compute the minimum eigenvalue of the adjacency matrix\n",
    "    min_eig = np.min(np.linalg.eigvals(adj_matrix))\n",
    "    # return the maximum and minimum eigenvalues\n",
    "    return max_eig, min_eig"
   ]
  },
  {
   "attachments": {},
   "cell_type": "markdown",
   "metadata": {},
   "source": [
    "# Numerical experiments for 2-layered networks\n",
    "Checking the upper bound when :\n",
    "- one of the matrices is p-matrix\n",
    "- both are p-matrix"
   ]
  },
  {
   "cell_type": "code",
   "execution_count": null,
   "metadata": {},
   "outputs": [],
   "source": [
    "# creating adjacency matrix for each layer (2 layers) with 50 nodes and 0.2 probability of zero elements for the first one and 0.5 for the second one\n",
    "adj_matrix1 = create_adj_matrix(50, 3)\n",
    "adj_matrix2 = create_adj_matrix(50, 2)\n",
    "\n",
    "# checking if the adjacency matrix is p-matrix:\n",
    "if np.any(np.linalg.eigvals(adj_matrix1 + adj_matrix1.T) <= 0):\n",
    "    print(\"The adjacency matrix 1 is not p-matrix\")\n",
    "\n",
    "if np.any(np.linalg.eigvals(adj_matrix2 + adj_matrix2.T) <= 0):\n",
    "    print(\"The adjacency matrix 2 is not p-matrix\")\n",
    "\n",
    "# plot the first layer\n",
    "plot_graph(adj_matrix1)\n",
    "# plot the second layer\n",
    "plot_graph(adj_matrix2)\n",
    "\n",
    "# creating interlayer relations betweek layers, this would be identity matrix since we want to connect each node in the first layer to each node in the second layer\n",
    "interlayer_relations = np.identity(50)\n",
    "\n",
    "# creating the adjacency matrix of the whole graph\n",
    "adj_matrix = np.block([[adj_matrix1, interlayer_relations], [interlayer_relations, adj_matrix2]])\n",
    "\n",
    "# plot interlayer relations\n",
    "plot_graph(interlayer_relations)"
   ]
  }
 ],
 "metadata": {
  "kernelspec": {
   "display_name": "base",
   "language": "python",
   "name": "python3"
  },
  "language_info": {
   "codemirror_mode": {
    "name": "ipython",
    "version": 3
   },
   "file_extension": ".py",
   "mimetype": "text/x-python",
   "name": "python",
   "nbconvert_exporter": "python",
   "pygments_lexer": "ipython3",
   "version": "3.9.13"
  },
  "orig_nbformat": 4,
  "vscode": {
   "interpreter": {
    "hash": "88de8a03d390c9821a705f8812eeaeda47efe29e530260f109fd5a47346b85c0"
   }
  }
 },
 "nbformat": 4,
 "nbformat_minor": 2
}
